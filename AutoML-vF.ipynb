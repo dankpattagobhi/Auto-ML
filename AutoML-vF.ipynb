{
 "cells": [
  {
   "cell_type": "code",
   "execution_count": null,
   "id": "3fa6c13b",
   "metadata": {},
   "outputs": [],
   "source": [
    "from sklearn.datasets import load_iris\n",
    "from sklearn.model_selection import train_test_split\n",
    "\n",
    "\n",
    "data = load_iris()\n",
    "X, y = data.data, data.target\n",
    "\n",
    "\n",
    "X_train, X_test, y_train, y_test = train_test_split(X, y, test_size=0.2, random_state=42)\n"
   ]
  },
  {
   "cell_type": "code",
   "execution_count": null,
   "id": "f239b693",
   "metadata": {},
   "outputs": [],
   "source": [
    "from scipy.stats import uniform, randint\n",
    "\n",
    "search_space = {\n",
    "    'n_estimators': randint(50, 200),\n",
    "    'max_depth': randint(3, 15),\n",
    "    'min_samples_split': randint(2, 10),\n",
    "    'max_features': uniform(0.1, 0.9)  \n",
    "}\n"
   ]
  },
  {
   "cell_type": "code",
   "execution_count": null,
   "id": "cb564125",
   "metadata": {},
   "outputs": [],
   "source": [
    "from sklearn.ensemble import RandomForestClassifier\n",
    "from sklearn.model_selection import StratifiedKFold\n",
    "from sklearn.preprocessing import LabelBinarizer\n",
    "from sklearn.metrics import roc_auc_score\n",
    "import numpy as np\n",
    "\n",
    "def clamp(value, min_value, max_value):\n",
    "    return max(min_value, min(value, max_value))\n",
    "\n",
    "def objective_function(params, X, y):\n",
    "    n_estimators = int(clamp(params['n_estimators'], 50, 200))\n",
    "    max_depth = int(clamp(params['max_depth'], 3, 15))\n",
    "    min_samples_split = int(clamp(params['min_samples_split'], 2, 10))\n",
    "    max_features = clamp(params['max_features'], 0.1, 1.0)\n",
    "    \n",
    "    model = RandomForestClassifier(\n",
    "        n_estimators=n_estimators,\n",
    "        max_depth=max_depth,\n",
    "        min_samples_split=min_samples_split,\n",
    "        max_features=max_features,\n",
    "        random_state=42\n",
    "    )\n",
    "    lb = LabelBinarizer()\n",
    "    y_bin = lb.fit_transform(y)\n",
    "    cv_scores = []\n",
    "\n",
    "    skf = StratifiedKFold(n_splits=5)\n",
    "    for train_idx, test_idx in skf.split(X, y):\n",
    "        model.fit(X[train_idx], y[train_idx])\n",
    "        y_prob = model.predict_proba(X[test_idx])\n",
    "        \n",
    "        if y_bin.shape[1] == 1:\n",
    "            roc_auc = roc_auc_score(y[test_idx], y_prob[:, 1])\n",
    "        else:\n",
    "            roc_auc = roc_auc_score(y_bin[test_idx], y_prob, average='macro')\n",
    "        \n",
    "        cv_scores.append(roc_auc)\n",
    "\n",
    "    return -np.mean(cv_scores)\n"
   ]
  },
  {
   "cell_type": "code",
   "execution_count": null,
   "id": "58a7edf1",
   "metadata": {},
   "outputs": [],
   "source": [
    "import random\n",
    "\n",
    "def get_random_hyperparameters(search_space):\n",
    "    return {key: dist.rvs() for key, dist in search_space.items()}\n",
    "\n",
    "def initial_observations(n, search_space, X, y):\n",
    "    observations = []\n",
    "    for _ in range(n):\n",
    "        params = get_random_hyperparameters(search_space)\n",
    "        score = objective_function(params, X, y)\n",
    "        observations.append((params, score))\n",
    "    return observations\n"
   ]
  },
  {
   "cell_type": "code",
   "execution_count": null,
   "id": "04eda8dd",
   "metadata": {},
   "outputs": [],
   "source": [
    "from sklearn.neighbors import KernelDensity\n",
    "\n",
    "def fit_kde(observations):\n",
    "    samples = np.array([list(obs[0].values()) for obs in observations])\n",
    "    kde = KernelDensity(kernel='gaussian').fit(samples)\n",
    "    return kde\n",
    "\n",
    "def sample_from_kde(kde, search_space):\n",
    "    samples = kde.sample()\n",
    "    return {key: samples[0][i] for i, key in enumerate(search_space.keys())}\n"
   ]
  },
  {
   "cell_type": "code",
   "execution_count": null,
   "id": "1900fbd6",
   "metadata": {},
   "outputs": [],
   "source": [
    "def optimize_hyperparameters(X, y, search_space, n_initial=10, n_iterations=50):\n",
    "    observations = initial_observations(n_initial, search_space, X, y)\n",
    "    \n",
    "    for _ in range(n_iterations - n_initial):\n",
    "        sorted_observations = sorted(observations, key=lambda x: x[1])\n",
    "        split_point = int(len(sorted_observations) * 0.2)\n",
    "        x1 = sorted_observations[:split_point]\n",
    "        x2 = sorted_observations[split_point:]\n",
    "        \n",
    "        kde_x1 = fit_kde(x1)\n",
    "        kde_x2 = fit_kde(x2)\n",
    "        \n",
    "        params = sample_from_kde(kde_x1, search_space)\n",
    "        score = objective_function(params, X, y)\n",
    "        observations.append((params, score))\n",
    "    \n",
    "    best_params = sorted(observations, key=lambda x: x[1])[0][0]\n",
    "    return best_params\n",
    "\n",
    "\n",
    "best_hyperparameters = optimize_hyperparameters(X_train, y_train, search_space)\n",
    "print(\"Best Hyperparameters: \", best_hyperparameters)\n"
   ]
  },
  {
   "cell_type": "code",
   "execution_count": null,
   "id": "3018fab5",
   "metadata": {},
   "outputs": [],
   "source": [
    "best_model = RandomForestClassifier(\n",
    "    n_estimators=int(clamp(best_hyperparameters['n_estimators'], 50, 200)),\n",
    "    max_depth=int(clamp(best_hyperparameters['max_depth'], 3, 15)),\n",
    "    min_samples_split=int(clamp(best_hyperparameters['min_samples_split'], 2, 10)),\n",
    "    max_features=clamp(best_hyperparameters['max_features'], 0.1, 1.0),\n",
    "    random_state=42\n",
    ")\n",
    "\n",
    "best_model.fit(X_train, y_train)\n",
    "y_pred_proba = best_model.predict_proba(X_test)\n",
    "\n",
    "roc_auc = roc_auc_score(LabelBinarizer().fit_transform(y_test), y_pred_proba, average='macro')\n",
    "print(f\"ROC AUC on Test Set: {roc_auc:.4f}\")\n"
   ]
  }
 ],
 "metadata": {
  "kernelspec": {
   "display_name": "Python 3 (ipykernel)",
   "language": "python",
   "name": "python3"
  },
  "language_info": {
   "codemirror_mode": {
    "name": "ipython",
    "version": 3
   },
   "file_extension": ".py",
   "mimetype": "text/x-python",
   "name": "python",
   "nbconvert_exporter": "python",
   "pygments_lexer": "ipython3",
   "version": "3.11.5"
  }
 },
 "nbformat": 4,
 "nbformat_minor": 5
}
